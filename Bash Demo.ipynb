{
 "cells": [
  {
   "cell_type": "markdown",
   "metadata": {},
   "source": [
    "# A Bash notebook"
   ]
  },
  {
   "cell_type": "markdown",
   "metadata": {},
   "source": [
    "Jupyter notebook is ofen known for it's ability to run Python. While it come _by default_ with Python, you can install a number of other execution engine known as Kernels. \n",
    "You can see the current kernel in the Top Left. It should say `Bash`. Use the kernel menu to change kernel."
   ]
  },
  {
   "cell_type": "markdown",
   "metadata": {},
   "source": [
    "Let's see what we have in current folder: "
   ]
  },
  {
   "cell_type": "code",
   "execution_count": null,
   "metadata": {},
   "outputs": [],
   "source": [
    "ls *fasta"
   ]
  },
  {
   "cell_type": "markdown",
   "metadata": {},
   "source": [
    "Let's have a look inside our file. "
   ]
  },
  {
   "cell_type": "code",
   "execution_count": null,
   "metadata": {},
   "outputs": [],
   "source": [
    "file=zika_assembled_genomes.fasta"
   ]
  },
  {
   "cell_type": "code",
   "execution_count": null,
   "metadata": {},
   "outputs": [],
   "source": [
    "grep \"^>\" $file"
   ]
  },
  {
   "cell_type": "markdown",
   "metadata": {},
   "source": [
    "As you may have noticed, with Jupyter you can interleave narrative and code. Narrative is present in markdown cells, while, code is in code cells. \n",
    "Code cell can contain math formulas is necessary. "
   ]
  },
  {
   "cell_type": "code",
   "execution_count": null,
   "metadata": {},
   "outputs": [],
   "source": [
    "grep \"^>\" $file | wc -l "
   ]
  },
  {
   "cell_type": "markdown",
   "metadata": {},
   "source": [
    "You can use the multi-line edditing capabilities to quickly iterate on a result"
   ]
  },
  {
   "cell_type": "code",
   "execution_count": null,
   "metadata": {},
   "outputs": [],
   "source": [
    "cat $file     \\\n",
    "        | sed -e 's/\\(^>.*$\\)/#\\1#/' \\\n",
    "        | tr -d \"\\r\"                 \\\n",
    "        | tr -d \"\\n\"                 \\\n",
    "        | sed -e 's/$/#/'            \\\n",
    "        | tr \"#\" \"\\n\"                \\\n",
    "        | sed -e '/^$/d'             \\\n",
    "        | sed -e 's/-/ /g'           \\\n",
    "        | grep -v '>' | cut -c 1-200"
   ]
  },
  {
   "cell_type": "markdown",
   "metadata": {},
   "source": [
    "## Most of bash command works"
   ]
  },
  {
   "cell_type": "code",
   "execution_count": null,
   "metadata": {},
   "outputs": [],
   "source": [
    "url=https://vignette.wikia.nocookie.net/en.futurama/images/f/f6/Professor-farnsworth.jpg/revision/latest/zoom-crop/width/240/height/240?cb=20120226073833"
   ]
  },
  {
   "cell_type": "markdown",
   "metadata": {},
   "source": [
    "You can curl non-text file...."
   ]
  },
  {
   "cell_type": "code",
   "execution_count": null,
   "metadata": {},
   "outputs": [],
   "source": [
    "curl $url 2>/dev/null | head  -n2 "
   ]
  },
  {
   "cell_type": "code",
   "execution_count": null,
   "metadata": {},
   "outputs": [],
   "source": [
    "curl $url -o good_news.png"
   ]
  },
  {
   "cell_type": "markdown",
   "metadata": {},
   "source": [
    "# Rich display capabilities:"
   ]
  },
  {
   "cell_type": "code",
   "execution_count": null,
   "metadata": {},
   "outputs": [],
   "source": [
    "cat good_news.png | display\n",
    "echo \"Good news everyone\""
   ]
  }
 ],
 "metadata": {
  "kernelspec": {
   "display_name": "Bash",
   "language": "bash",
   "name": "bash"
  },
  "language_info": {
   "codemirror_mode": "shell",
   "file_extension": ".sh",
   "mimetype": "text/x-sh",
   "name": "bash"
  }
 },
 "nbformat": 4,
 "nbformat_minor": 2
}
